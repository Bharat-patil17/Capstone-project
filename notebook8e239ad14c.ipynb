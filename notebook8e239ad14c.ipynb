{
 "cells": [
  {
   "cell_type": "code",
   "execution_count": 1,
   "id": "b00c117f",
   "metadata": {
    "_cell_guid": "b1076dfc-b9ad-4769-8c92-a6c4dae69d19",
    "_uuid": "8f2839f25d086af736a60e9eeb907d3b93b6e0e5",
    "execution": {
     "iopub.execute_input": "2024-02-17T05:19:30.988300Z",
     "iopub.status.busy": "2024-02-17T05:19:30.987817Z",
     "iopub.status.idle": "2024-02-17T05:19:32.086185Z",
     "shell.execute_reply": "2024-02-17T05:19:32.085222Z"
    },
    "papermill": {
     "duration": 1.118324,
     "end_time": "2024-02-17T05:19:32.088951",
     "exception": false,
     "start_time": "2024-02-17T05:19:30.970627",
     "status": "completed"
    },
    "tags": []
   },
   "outputs": [
    {
     "name": "stdout",
     "output_type": "stream",
     "text": [
      "/kaggle/input/montcoalert/911.csv\n"
     ]
    }
   ],
   "source": [
    "# This Python 3 environment comes with many helpful analytics libraries installed\n",
    "# It is defined by the kaggle/python Docker image: https://github.com/kaggle/docker-python\n",
    "# For example, here's several helpful packages to load\n",
    "\n",
    "import numpy as np # linear algebra\n",
    "import pandas as pd # data processing, CSV file I/O (e.g. pd.read_csv)\n",
    "\n",
    "# Input data files are available in the read-only \"../input/\" directory\n",
    "# For example, running this (by clicking run or pressing Shift+Enter) will list all files under the input directory\n",
    "\n",
    "import os\n",
    "for dirname, _, filenames in os.walk('/kaggle/input'):\n",
    "    for filename in filenames:\n",
    "        print(os.path.join(dirname, filename))\n",
    "\n",
    "# You can write up to 20GB to the current directory (/kaggle/working/) that gets preserved as output when you create a version using \"Save & Run All\" \n",
    "# You can also write temporary files to /kaggle/temp/, but they won't be saved outside of the current session"
   ]
  },
  {
   "cell_type": "code",
   "execution_count": 2,
   "id": "8b0e8d08",
   "metadata": {
    "execution": {
     "iopub.execute_input": "2024-02-17T05:19:32.121259Z",
     "iopub.status.busy": "2024-02-17T05:19:32.120724Z",
     "iopub.status.idle": "2024-02-17T05:19:32.125886Z",
     "shell.execute_reply": "2024-02-17T05:19:32.124712Z"
    },
    "papermill": {
     "duration": 0.02404,
     "end_time": "2024-02-17T05:19:32.128759",
     "exception": false,
     "start_time": "2024-02-17T05:19:32.104719",
     "status": "completed"
    },
    "tags": []
   },
   "outputs": [],
   "source": [
    "import numpy as np\n",
    "import pandas as pd"
   ]
  },
  {
   "cell_type": "code",
   "execution_count": 3,
   "id": "681127ff",
   "metadata": {
    "execution": {
     "iopub.execute_input": "2024-02-17T05:19:32.159630Z",
     "iopub.status.busy": "2024-02-17T05:19:32.158963Z",
     "iopub.status.idle": "2024-02-17T05:19:33.854762Z",
     "shell.execute_reply": "2024-02-17T05:19:33.853426Z"
    },
    "papermill": {
     "duration": 1.714396,
     "end_time": "2024-02-17T05:19:33.857485",
     "exception": false,
     "start_time": "2024-02-17T05:19:32.143089",
     "status": "completed"
    },
    "tags": []
   },
   "outputs": [],
   "source": [
    "import matplotlib.pyplot as plt\n",
    "import seaborn as sns\n",
    "%matplotlib inline"
   ]
  },
  {
   "cell_type": "code",
   "execution_count": 4,
   "id": "951b7fce",
   "metadata": {
    "execution": {
     "iopub.execute_input": "2024-02-17T05:19:33.890343Z",
     "iopub.status.busy": "2024-02-17T05:19:33.889941Z",
     "iopub.status.idle": "2024-02-17T05:19:38.173956Z",
     "shell.execute_reply": "2024-02-17T05:19:38.172954Z"
    },
    "papermill": {
     "duration": 4.304107,
     "end_time": "2024-02-17T05:19:38.176755",
     "exception": false,
     "start_time": "2024-02-17T05:19:33.872648",
     "status": "completed"
    },
    "tags": []
   },
   "outputs": [],
   "source": [
    "df=pd.read_csv('/kaggle/input/montcoalert/911.csv')"
   ]
  },
  {
   "cell_type": "code",
   "execution_count": 5,
   "id": "80c66526",
   "metadata": {
    "execution": {
     "iopub.execute_input": "2024-02-17T05:19:38.207283Z",
     "iopub.status.busy": "2024-02-17T05:19:38.206908Z",
     "iopub.status.idle": "2024-02-17T05:19:38.595665Z",
     "shell.execute_reply": "2024-02-17T05:19:38.594268Z"
    },
    "papermill": {
     "duration": 0.407313,
     "end_time": "2024-02-17T05:19:38.598322",
     "exception": false,
     "start_time": "2024-02-17T05:19:38.191009",
     "status": "completed"
    },
    "tags": []
   },
   "outputs": [
    {
     "name": "stdout",
     "output_type": "stream",
     "text": [
      "<class 'pandas.core.frame.DataFrame'>\n",
      "RangeIndex: 663522 entries, 0 to 663521\n",
      "Data columns (total 9 columns):\n",
      " #   Column     Non-Null Count   Dtype  \n",
      "---  ------     --------------   -----  \n",
      " 0   lat        663522 non-null  float64\n",
      " 1   lng        663522 non-null  float64\n",
      " 2   desc       663522 non-null  object \n",
      " 3   zip        583323 non-null  float64\n",
      " 4   title      663522 non-null  object \n",
      " 5   timeStamp  663522 non-null  object \n",
      " 6   twp        663229 non-null  object \n",
      " 7   addr       663522 non-null  object \n",
      " 8   e          663522 non-null  int64  \n",
      "dtypes: float64(3), int64(1), object(5)\n",
      "memory usage: 45.6+ MB\n"
     ]
    }
   ],
   "source": [
    "df.info()"
   ]
  },
  {
   "cell_type": "code",
   "execution_count": 6,
   "id": "bd97c2d5",
   "metadata": {
    "execution": {
     "iopub.execute_input": "2024-02-17T05:19:38.629243Z",
     "iopub.status.busy": "2024-02-17T05:19:38.628848Z",
     "iopub.status.idle": "2024-02-17T05:19:38.650907Z",
     "shell.execute_reply": "2024-02-17T05:19:38.649717Z"
    },
    "papermill": {
     "duration": 0.040317,
     "end_time": "2024-02-17T05:19:38.653328",
     "exception": false,
     "start_time": "2024-02-17T05:19:38.613011",
     "status": "completed"
    },
    "tags": []
   },
   "outputs": [
    {
     "data": {
      "text/html": [
       "<div>\n",
       "<style scoped>\n",
       "    .dataframe tbody tr th:only-of-type {\n",
       "        vertical-align: middle;\n",
       "    }\n",
       "\n",
       "    .dataframe tbody tr th {\n",
       "        vertical-align: top;\n",
       "    }\n",
       "\n",
       "    .dataframe thead th {\n",
       "        text-align: right;\n",
       "    }\n",
       "</style>\n",
       "<table border=\"1\" class=\"dataframe\">\n",
       "  <thead>\n",
       "    <tr style=\"text-align: right;\">\n",
       "      <th></th>\n",
       "      <th>lat</th>\n",
       "      <th>lng</th>\n",
       "      <th>desc</th>\n",
       "      <th>zip</th>\n",
       "      <th>title</th>\n",
       "      <th>timeStamp</th>\n",
       "      <th>twp</th>\n",
       "      <th>addr</th>\n",
       "      <th>e</th>\n",
       "    </tr>\n",
       "  </thead>\n",
       "  <tbody>\n",
       "    <tr>\n",
       "      <th>0</th>\n",
       "      <td>40.297876</td>\n",
       "      <td>-75.581294</td>\n",
       "      <td>REINDEER CT &amp; DEAD END;  NEW HANOVER; Station ...</td>\n",
       "      <td>19525.0</td>\n",
       "      <td>EMS: BACK PAINS/INJURY</td>\n",
       "      <td>2015-12-10 17:10:52</td>\n",
       "      <td>NEW HANOVER</td>\n",
       "      <td>REINDEER CT &amp; DEAD END</td>\n",
       "      <td>1</td>\n",
       "    </tr>\n",
       "    <tr>\n",
       "      <th>1</th>\n",
       "      <td>40.258061</td>\n",
       "      <td>-75.264680</td>\n",
       "      <td>BRIAR PATH &amp; WHITEMARSH LN;  HATFIELD TOWNSHIP...</td>\n",
       "      <td>19446.0</td>\n",
       "      <td>EMS: DIABETIC EMERGENCY</td>\n",
       "      <td>2015-12-10 17:29:21</td>\n",
       "      <td>HATFIELD TOWNSHIP</td>\n",
       "      <td>BRIAR PATH &amp; WHITEMARSH LN</td>\n",
       "      <td>1</td>\n",
       "    </tr>\n",
       "    <tr>\n",
       "      <th>2</th>\n",
       "      <td>40.121182</td>\n",
       "      <td>-75.351975</td>\n",
       "      <td>HAWS AVE; NORRISTOWN; 2015-12-10 @ 14:39:21-St...</td>\n",
       "      <td>19401.0</td>\n",
       "      <td>Fire: GAS-ODOR/LEAK</td>\n",
       "      <td>2015-12-10 14:39:21</td>\n",
       "      <td>NORRISTOWN</td>\n",
       "      <td>HAWS AVE</td>\n",
       "      <td>1</td>\n",
       "    </tr>\n",
       "    <tr>\n",
       "      <th>3</th>\n",
       "      <td>40.116153</td>\n",
       "      <td>-75.343513</td>\n",
       "      <td>AIRY ST &amp; SWEDE ST;  NORRISTOWN; Station 308A;...</td>\n",
       "      <td>19401.0</td>\n",
       "      <td>EMS: CARDIAC EMERGENCY</td>\n",
       "      <td>2015-12-10 16:47:36</td>\n",
       "      <td>NORRISTOWN</td>\n",
       "      <td>AIRY ST &amp; SWEDE ST</td>\n",
       "      <td>1</td>\n",
       "    </tr>\n",
       "    <tr>\n",
       "      <th>4</th>\n",
       "      <td>40.251492</td>\n",
       "      <td>-75.603350</td>\n",
       "      <td>CHERRYWOOD CT &amp; DEAD END;  LOWER POTTSGROVE; S...</td>\n",
       "      <td>NaN</td>\n",
       "      <td>EMS: DIZZINESS</td>\n",
       "      <td>2015-12-10 16:56:52</td>\n",
       "      <td>LOWER POTTSGROVE</td>\n",
       "      <td>CHERRYWOOD CT &amp; DEAD END</td>\n",
       "      <td>1</td>\n",
       "    </tr>\n",
       "  </tbody>\n",
       "</table>\n",
       "</div>"
      ],
      "text/plain": [
       "         lat        lng                                               desc  \\\n",
       "0  40.297876 -75.581294  REINDEER CT & DEAD END;  NEW HANOVER; Station ...   \n",
       "1  40.258061 -75.264680  BRIAR PATH & WHITEMARSH LN;  HATFIELD TOWNSHIP...   \n",
       "2  40.121182 -75.351975  HAWS AVE; NORRISTOWN; 2015-12-10 @ 14:39:21-St...   \n",
       "3  40.116153 -75.343513  AIRY ST & SWEDE ST;  NORRISTOWN; Station 308A;...   \n",
       "4  40.251492 -75.603350  CHERRYWOOD CT & DEAD END;  LOWER POTTSGROVE; S...   \n",
       "\n",
       "       zip                    title            timeStamp                twp  \\\n",
       "0  19525.0   EMS: BACK PAINS/INJURY  2015-12-10 17:10:52        NEW HANOVER   \n",
       "1  19446.0  EMS: DIABETIC EMERGENCY  2015-12-10 17:29:21  HATFIELD TOWNSHIP   \n",
       "2  19401.0      Fire: GAS-ODOR/LEAK  2015-12-10 14:39:21         NORRISTOWN   \n",
       "3  19401.0   EMS: CARDIAC EMERGENCY  2015-12-10 16:47:36         NORRISTOWN   \n",
       "4      NaN           EMS: DIZZINESS  2015-12-10 16:56:52   LOWER POTTSGROVE   \n",
       "\n",
       "                         addr  e  \n",
       "0      REINDEER CT & DEAD END  1  \n",
       "1  BRIAR PATH & WHITEMARSH LN  1  \n",
       "2                    HAWS AVE  1  \n",
       "3          AIRY ST & SWEDE ST  1  \n",
       "4    CHERRYWOOD CT & DEAD END  1  "
      ]
     },
     "execution_count": 6,
     "metadata": {},
     "output_type": "execute_result"
    }
   ],
   "source": [
    "df.head()"
   ]
  },
  {
   "cell_type": "code",
   "execution_count": 7,
   "id": "2a126d98",
   "metadata": {
    "execution": {
     "iopub.execute_input": "2024-02-17T05:19:38.684760Z",
     "iopub.status.busy": "2024-02-17T05:19:38.684336Z",
     "iopub.status.idle": "2024-02-17T05:19:38.707938Z",
     "shell.execute_reply": "2024-02-17T05:19:38.706707Z"
    },
    "papermill": {
     "duration": 0.042298,
     "end_time": "2024-02-17T05:19:38.710461",
     "exception": false,
     "start_time": "2024-02-17T05:19:38.668163",
     "status": "completed"
    },
    "tags": []
   },
   "outputs": [
    {
     "data": {
      "text/plain": [
       "zip\n",
       "19401.0    45606\n",
       "19464.0    43910\n",
       "19403.0    34888\n",
       "19446.0    32270\n",
       "19406.0    22464\n",
       "Name: count, dtype: int64"
      ]
     },
     "execution_count": 7,
     "metadata": {},
     "output_type": "execute_result"
    }
   ],
   "source": [
    "df['zip'].value_counts().head(5)"
   ]
  },
  {
   "cell_type": "code",
   "execution_count": 8,
   "id": "0e12ffa2",
   "metadata": {
    "execution": {
     "iopub.execute_input": "2024-02-17T05:19:38.743008Z",
     "iopub.status.busy": "2024-02-17T05:19:38.742641Z",
     "iopub.status.idle": "2024-02-17T05:19:38.872243Z",
     "shell.execute_reply": "2024-02-17T05:19:38.871006Z"
    },
    "papermill": {
     "duration": 0.149083,
     "end_time": "2024-02-17T05:19:38.875014",
     "exception": false,
     "start_time": "2024-02-17T05:19:38.725931",
     "status": "completed"
    },
    "tags": []
   },
   "outputs": [
    {
     "data": {
      "text/plain": [
       "twp\n",
       "LOWER MERION    55490\n",
       "ABINGTON        39947\n",
       "NORRISTOWN      37633\n",
       "UPPER MERION    36010\n",
       "CHELTENHAM      30574\n",
       "Name: count, dtype: int64"
      ]
     },
     "execution_count": 8,
     "metadata": {},
     "output_type": "execute_result"
    }
   ],
   "source": [
    "df['twp'].value_counts().head(5)"
   ]
  },
  {
   "cell_type": "code",
   "execution_count": 9,
   "id": "fd036a98",
   "metadata": {
    "execution": {
     "iopub.execute_input": "2024-02-17T05:19:38.907565Z",
     "iopub.status.busy": "2024-02-17T05:19:38.907124Z",
     "iopub.status.idle": "2024-02-17T05:19:38.993907Z",
     "shell.execute_reply": "2024-02-17T05:19:38.992991Z"
    },
    "papermill": {
     "duration": 0.105726,
     "end_time": "2024-02-17T05:19:38.996441",
     "exception": false,
     "start_time": "2024-02-17T05:19:38.890715",
     "status": "completed"
    },
    "tags": []
   },
   "outputs": [
    {
     "data": {
      "text/plain": [
       "148"
      ]
     },
     "execution_count": 9,
     "metadata": {},
     "output_type": "execute_result"
    }
   ],
   "source": [
    "df['title'].nunique()"
   ]
  },
  {
   "cell_type": "code",
   "execution_count": 10,
   "id": "e3ca9e3c",
   "metadata": {
    "execution": {
     "iopub.execute_input": "2024-02-17T05:19:39.030792Z",
     "iopub.status.busy": "2024-02-17T05:19:39.030345Z",
     "iopub.status.idle": "2024-02-17T05:19:39.036891Z",
     "shell.execute_reply": "2024-02-17T05:19:39.035593Z"
    },
    "papermill": {
     "duration": 0.027222,
     "end_time": "2024-02-17T05:19:39.039676",
     "exception": false,
     "start_time": "2024-02-17T05:19:39.012454",
     "status": "completed"
    },
    "tags": []
   },
   "outputs": [],
   "source": [
    "x=df['title'].iloc[0]"
   ]
  },
  {
   "cell_type": "code",
   "execution_count": 11,
   "id": "c08feee4",
   "metadata": {
    "execution": {
     "iopub.execute_input": "2024-02-17T05:19:39.072828Z",
     "iopub.status.busy": "2024-02-17T05:19:39.072385Z",
     "iopub.status.idle": "2024-02-17T05:19:39.080252Z",
     "shell.execute_reply": "2024-02-17T05:19:39.079128Z"
    },
    "papermill": {
     "duration": 0.027021,
     "end_time": "2024-02-17T05:19:39.082743",
     "exception": false,
     "start_time": "2024-02-17T05:19:39.055722",
     "status": "completed"
    },
    "tags": []
   },
   "outputs": [
    {
     "data": {
      "text/plain": [
       "'EMS: BACK PAINS/INJURY'"
      ]
     },
     "execution_count": 11,
     "metadata": {},
     "output_type": "execute_result"
    }
   ],
   "source": [
    "x"
   ]
  },
  {
   "cell_type": "code",
   "execution_count": 12,
   "id": "a3f0d398",
   "metadata": {
    "execution": {
     "iopub.execute_input": "2024-02-17T05:19:39.117846Z",
     "iopub.status.busy": "2024-02-17T05:19:39.117451Z",
     "iopub.status.idle": "2024-02-17T05:19:39.124477Z",
     "shell.execute_reply": "2024-02-17T05:19:39.123384Z"
    },
    "papermill": {
     "duration": 0.027886,
     "end_time": "2024-02-17T05:19:39.126842",
     "exception": false,
     "start_time": "2024-02-17T05:19:39.098956",
     "status": "completed"
    },
    "tags": []
   },
   "outputs": [
    {
     "data": {
      "text/plain": [
       "['EMS', ' BACK PAINS/INJURY']"
      ]
     },
     "execution_count": 12,
     "metadata": {},
     "output_type": "execute_result"
    }
   ],
   "source": [
    "x.split(':')"
   ]
  },
  {
   "cell_type": "code",
   "execution_count": 13,
   "id": "5b7c45b7",
   "metadata": {
    "execution": {
     "iopub.execute_input": "2024-02-17T05:19:39.162057Z",
     "iopub.status.busy": "2024-02-17T05:19:39.161638Z",
     "iopub.status.idle": "2024-02-17T05:19:39.588841Z",
     "shell.execute_reply": "2024-02-17T05:19:39.587365Z"
    },
    "papermill": {
     "duration": 0.447982,
     "end_time": "2024-02-17T05:19:39.591434",
     "exception": false,
     "start_time": "2024-02-17T05:19:39.143452",
     "status": "completed"
    },
    "tags": []
   },
   "outputs": [],
   "source": [
    "df['reason']=df['title'].apply(lambda title: title.split(':')[0])"
   ]
  },
  {
   "cell_type": "code",
   "execution_count": 14,
   "id": "622d7df3",
   "metadata": {
    "execution": {
     "iopub.execute_input": "2024-02-17T05:19:39.625598Z",
     "iopub.status.busy": "2024-02-17T05:19:39.625123Z",
     "iopub.status.idle": "2024-02-17T05:19:39.635009Z",
     "shell.execute_reply": "2024-02-17T05:19:39.633520Z"
    },
    "papermill": {
     "duration": 0.02996,
     "end_time": "2024-02-17T05:19:39.637540",
     "exception": false,
     "start_time": "2024-02-17T05:19:39.607580",
     "status": "completed"
    },
    "tags": []
   },
   "outputs": [
    {
     "data": {
      "text/plain": [
       "0             EMS\n",
       "1             EMS\n",
       "2            Fire\n",
       "3             EMS\n",
       "4             EMS\n",
       "           ...   \n",
       "663517    Traffic\n",
       "663518        EMS\n",
       "663519        EMS\n",
       "663520       Fire\n",
       "663521    Traffic\n",
       "Name: reason, Length: 663522, dtype: object"
      ]
     },
     "execution_count": 14,
     "metadata": {},
     "output_type": "execute_result"
    }
   ],
   "source": [
    "df['reason']"
   ]
  },
  {
   "cell_type": "code",
   "execution_count": 15,
   "id": "e3e04c91",
   "metadata": {
    "execution": {
     "iopub.execute_input": "2024-02-17T05:19:39.671898Z",
     "iopub.status.busy": "2024-02-17T05:19:39.671501Z",
     "iopub.status.idle": "2024-02-17T05:19:39.818604Z",
     "shell.execute_reply": "2024-02-17T05:19:39.817737Z"
    },
    "papermill": {
     "duration": 0.166682,
     "end_time": "2024-02-17T05:19:39.820722",
     "exception": false,
     "start_time": "2024-02-17T05:19:39.654040",
     "status": "completed"
    },
    "tags": []
   },
   "outputs": [
    {
     "data": {
      "text/plain": [
       "reason\n",
       "EMS    332692\n",
       "Name: count, dtype: int64"
      ]
     },
     "execution_count": 15,
     "metadata": {},
     "output_type": "execute_result"
    }
   ],
   "source": [
    "df['reason'].value_counts().head(1)"
   ]
  },
  {
   "cell_type": "code",
   "execution_count": 16,
   "id": "d53ceebf",
   "metadata": {
    "execution": {
     "iopub.execute_input": "2024-02-17T05:19:39.853728Z",
     "iopub.status.busy": "2024-02-17T05:19:39.853337Z",
     "iopub.status.idle": "2024-02-17T05:19:40.844642Z",
     "shell.execute_reply": "2024-02-17T05:19:40.843422Z"
    },
    "papermill": {
     "duration": 1.010967,
     "end_time": "2024-02-17T05:19:40.847350",
     "exception": false,
     "start_time": "2024-02-17T05:19:39.836383",
     "status": "completed"
    },
    "tags": []
   },
   "outputs": [
    {
     "data": {
      "text/plain": [
       "<Axes: xlabel='reason', ylabel='count'>"
      ]
     },
     "execution_count": 16,
     "metadata": {},
     "output_type": "execute_result"
    },
    {
     "data": {
      "image/png": "[encoded data removed]",
      "text/plain": [
       "<Figure size 640x480 with 1 Axes>"
      ]
     },
     "metadata": {},
     "output_type": "display_data"
    }
   ],
   "source": [
    "sns.countplot(x='reason',data=df)"
   ]
  },
  {
   "cell_type": "code",
   "execution_count": 17,
   "id": "fe7b98a3",
   "metadata": {
    "execution": {
     "iopub.execute_input": "2024-02-17T05:19:40.884973Z",
     "iopub.status.busy": "2024-02-17T05:19:40.884074Z",
     "iopub.status.idle": "2024-02-17T05:19:41.330460Z",
     "shell.execute_reply": "2024-02-17T05:19:41.329311Z"
    },
    "papermill": {
     "duration": 0.46793,
     "end_time": "2024-02-17T05:19:41.333241",
     "exception": false,
     "start_time": "2024-02-17T05:19:40.865311",
     "status": "completed"
    },
    "tags": []
   },
   "outputs": [
    {
     "name": "stdout",
     "output_type": "stream",
     "text": [
      "<class 'pandas.core.frame.DataFrame'>\n",
      "RangeIndex: 663522 entries, 0 to 663521\n",
      "Data columns (total 10 columns):\n",
      " #   Column     Non-Null Count   Dtype  \n",
      "---  ------     --------------   -----  \n",
      " 0   lat        663522 non-null  float64\n",
      " 1   lng        663522 non-null  float64\n",
      " 2   desc       663522 non-null  object \n",
      " 3   zip        583323 non-null  float64\n",
      " 4   title      663522 non-null  object \n",
      " 5   timeStamp  663522 non-null  object \n",
      " 6   twp        663229 non-null  object \n",
      " 7   addr       663522 non-null  object \n",
      " 8   e          663522 non-null  int64  \n",
      " 9   reason     663522 non-null  object \n",
      "dtypes: float64(3), int64(1), object(6)\n",
      "memory usage: 50.6+ MB\n"
     ]
    }
   ],
   "source": [
    "df.info()"
   ]
  },
  {
   "cell_type": "code",
   "execution_count": 18,
   "id": "65c6b702",
   "metadata": {
    "execution": {
     "iopub.execute_input": "2024-02-17T05:19:41.368810Z",
     "iopub.status.busy": "2024-02-17T05:19:41.367697Z",
     "iopub.status.idle": "2024-02-17T05:19:41.374537Z",
     "shell.execute_reply": "2024-02-17T05:19:41.373623Z"
    },
    "papermill": {
     "duration": 0.026764,
     "end_time": "2024-02-17T05:19:41.376745",
     "exception": false,
     "start_time": "2024-02-17T05:19:41.349981",
     "status": "completed"
    },
    "tags": []
   },
   "outputs": [
    {
     "data": {
      "text/plain": [
       "str"
      ]
     },
     "execution_count": 18,
     "metadata": {},
     "output_type": "execute_result"
    }
   ],
   "source": [
    "type(df['timeStamp'].iloc[0])"
   ]
  },
  {
   "cell_type": "code",
   "execution_count": 19,
   "id": "ee6c3f47",
   "metadata": {
    "execution": {
     "iopub.execute_input": "2024-02-17T05:19:41.412487Z",
     "iopub.status.busy": "2024-02-17T05:19:41.411348Z",
     "iopub.status.idle": "2024-02-17T05:19:41.666898Z",
     "shell.execute_reply": "2024-02-17T05:19:41.665601Z"
    },
    "papermill": {
     "duration": 0.276275,
     "end_time": "2024-02-17T05:19:41.669855",
     "exception": false,
     "start_time": "2024-02-17T05:19:41.393580",
     "status": "completed"
    },
    "tags": []
   },
   "outputs": [],
   "source": [
    "df['timeStamp']=pd.to_datetime(df['timeStamp'])"
   ]
  },
  {
   "cell_type": "code",
   "execution_count": 20,
   "id": "0961cf0d",
   "metadata": {
    "execution": {
     "iopub.execute_input": "2024-02-17T05:19:41.707984Z",
     "iopub.status.busy": "2024-02-17T05:19:41.706748Z",
     "iopub.status.idle": "2024-02-17T05:19:41.714650Z",
     "shell.execute_reply": "2024-02-17T05:19:41.713730Z"
    },
    "papermill": {
     "duration": 0.030015,
     "end_time": "2024-02-17T05:19:41.717156",
     "exception": false,
     "start_time": "2024-02-17T05:19:41.687141",
     "status": "completed"
    },
    "tags": []
   },
   "outputs": [
    {
     "data": {
      "text/plain": [
       "pandas._libs.tslibs.timestamps.Timestamp"
      ]
     },
     "execution_count": 20,
     "metadata": {},
     "output_type": "execute_result"
    }
   ],
   "source": [
    "type(df['timeStamp'].iloc[0])"
   ]
  },
  {
   "cell_type": "code",
   "execution_count": 21,
   "id": "c3a7924b",
   "metadata": {
    "execution": {
     "iopub.execute_input": "2024-02-17T05:19:41.753423Z",
     "iopub.status.busy": "2024-02-17T05:19:41.752380Z",
     "iopub.status.idle": "2024-02-17T05:19:41.759903Z",
     "shell.execute_reply": "2024-02-17T05:19:41.758899Z"
    },
    "papermill": {
     "duration": 0.028266,
     "end_time": "2024-02-17T05:19:41.762518",
     "exception": false,
     "start_time": "2024-02-17T05:19:41.734252",
     "status": "completed"
    },
    "tags": []
   },
   "outputs": [
    {
     "data": {
      "text/plain": [
       "17"
      ]
     },
     "execution_count": 21,
     "metadata": {},
     "output_type": "execute_result"
    }
   ],
   "source": [
    "time=df['timeStamp'].iloc[0]\n",
    "time.hour"
   ]
  },
  {
   "cell_type": "code",
   "execution_count": 22,
   "id": "40f27b2f",
   "metadata": {
    "execution": {
     "iopub.execute_input": "2024-02-17T05:19:41.799962Z",
     "iopub.status.busy": "2024-02-17T05:19:41.799595Z",
     "iopub.status.idle": "2024-02-17T05:19:41.806782Z",
     "shell.execute_reply": "2024-02-17T05:19:41.805347Z"
    },
    "papermill": {
     "duration": 0.028495,
     "end_time": "2024-02-17T05:19:41.809024",
     "exception": false,
     "start_time": "2024-02-17T05:19:41.780529",
     "status": "completed"
    },
    "tags": []
   },
   "outputs": [
    {
     "data": {
      "text/plain": [
       "2015"
      ]
     },
     "execution_count": 22,
     "metadata": {},
     "output_type": "execute_result"
    }
   ],
   "source": [
    "time.year"
   ]
  },
  {
   "cell_type": "code",
   "execution_count": 23,
   "id": "a3e26014",
   "metadata": {
    "execution": {
     "iopub.execute_input": "2024-02-17T05:19:41.905137Z",
     "iopub.status.busy": "2024-02-17T05:19:41.904624Z",
     "iopub.status.idle": "2024-02-17T05:19:43.949615Z",
     "shell.execute_reply": "2024-02-17T05:19:43.948262Z"
    },
    "papermill": {
     "duration": 2.067249,
     "end_time": "2024-02-17T05:19:43.952456",
     "exception": false,
     "start_time": "2024-02-17T05:19:41.885207",
     "status": "completed"
    },
    "tags": []
   },
   "outputs": [],
   "source": [
    "df['hour']=df['timeStamp'].apply(lambda time: time.hour)"
   ]
  },
  {
   "cell_type": "code",
   "execution_count": 24,
   "id": "23529b82",
   "metadata": {
    "execution": {
     "iopub.execute_input": "2024-02-17T05:19:43.990069Z",
     "iopub.status.busy": "2024-02-17T05:19:43.989703Z",
     "iopub.status.idle": "2024-02-17T05:19:43.998797Z",
     "shell.execute_reply": "2024-02-17T05:19:43.997587Z"
    },
    "papermill": {
     "duration": 0.030218,
     "end_time": "2024-02-17T05:19:44.001203",
     "exception": false,
     "start_time": "2024-02-17T05:19:43.970985",
     "status": "completed"
    },
    "tags": []
   },
   "outputs": [
    {
     "data": {
      "text/plain": [
       "0         17\n",
       "1         17\n",
       "2         14\n",
       "3         16\n",
       "4         16\n",
       "          ..\n",
       "663517    15\n",
       "663518    15\n",
       "663519    15\n",
       "663520    15\n",
       "663521    15\n",
       "Name: hour, Length: 663522, dtype: int64"
      ]
     },
     "execution_count": 24,
     "metadata": {},
     "output_type": "execute_result"
    }
   ],
   "source": [
    "df['hour']"
   ]
  },
  {
   "cell_type": "code",
   "execution_count": 25,
   "id": "34cd26aa",
   "metadata": {
    "execution": {
     "iopub.execute_input": "2024-02-17T05:19:44.039030Z",
     "iopub.status.busy": "2024-02-17T05:19:44.038655Z",
     "iopub.status.idle": "2024-02-17T05:19:45.977973Z",
     "shell.execute_reply": "2024-02-17T05:19:45.976280Z"
    },
    "papermill": {
     "duration": 1.961502,
     "end_time": "2024-02-17T05:19:45.981008",
     "exception": false,
     "start_time": "2024-02-17T05:19:44.019506",
     "status": "completed"
    },
    "tags": []
   },
   "outputs": [],
   "source": [
    "df['month']=df['timeStamp'].apply(lambda time: time.month)"
   ]
  },
  {
   "cell_type": "code",
   "execution_count": 26,
   "id": "63ce92b8",
   "metadata": {
    "execution": {
     "iopub.execute_input": "2024-02-17T05:19:46.019679Z",
     "iopub.status.busy": "2024-02-17T05:19:46.018939Z",
     "iopub.status.idle": "2024-02-17T05:19:48.103848Z",
     "shell.execute_reply": "2024-02-17T05:19:48.102712Z"
    },
    "papermill": {
     "duration": 2.108515,
     "end_time": "2024-02-17T05:19:48.106903",
     "exception": false,
     "start_time": "2024-02-17T05:19:45.998388",
     "status": "completed"
    },
    "tags": []
   },
   "outputs": [],
   "source": [
    "df['day of week']=df['timeStamp'].apply(lambda time: time.day_of_week)"
   ]
  },
  {
   "cell_type": "code",
   "execution_count": 27,
   "id": "3db0a90c",
   "metadata": {
    "execution": {
     "iopub.execute_input": "2024-02-17T05:19:48.145375Z",
     "iopub.status.busy": "2024-02-17T05:19:48.144983Z",
     "iopub.status.idle": "2024-02-17T05:19:48.164322Z",
     "shell.execute_reply": "2024-02-17T05:19:48.163011Z"
    },
    "papermill": {
     "duration": 0.041254,
     "end_time": "2024-02-17T05:19:48.166852",
     "exception": false,
     "start_time": "2024-02-17T05:19:48.125598",
     "status": "completed"
    },
    "tags": []
   },
   "outputs": [
    {
     "data": {
      "text/html": [
       "<div>\n",
       "<style scoped>\n",
       "    .dataframe tbody tr th:only-of-type {\n",
       "        vertical-align: middle;\n",
       "    }\n",
       "\n",
       "    .dataframe tbody tr th {\n",
       "        vertical-align: top;\n",
       "    }\n",
       "\n",
       "    .dataframe thead th {\n",
       "        text-align: right;\n",
       "    }\n",
       "</style>\n",
       "<table border=\"1\" class=\"dataframe\">\n",
       "  <thead>\n",
       "    <tr style=\"text-align: right;\">\n",
       "      <th></th>\n",
       "      <th>lat</th>\n",
       "      <th>lng</th>\n",
       "      <th>desc</th>\n",
       "      <th>zip</th>\n",
       "      <th>title</th>\n",
       "      <th>timeStamp</th>\n",
       "      <th>twp</th>\n",
       "      <th>addr</th>\n",
       "      <th>e</th>\n",
       "      <th>reason</th>\n",
       "      <th>hour</th>\n",
       "      <th>month</th>\n",
       "      <th>day of week</th>\n",
       "    </tr>\n",
       "  </thead>\n",
       "  <tbody>\n",
       "    <tr>\n",
       "      <th>0</th>\n",
       "      <td>40.297876</td>\n",
       "      <td>-75.581294</td>\n",
       "      <td>REINDEER CT &amp; DEAD END;  NEW HANOVER; Station ...</td>\n",
       "      <td>19525.0</td>\n",
       "      <td>EMS: BACK PAINS/INJURY</td>\n",
       "      <td>2015-12-10 17:10:52</td>\n",
       "      <td>NEW HANOVER</td>\n",
       "      <td>REINDEER CT &amp; DEAD END</td>\n",
       "      <td>1</td>\n",
       "      <td>EMS</td>\n",
       "      <td>17</td>\n",
       "      <td>12</td>\n",
       "      <td>3</td>\n",
       "    </tr>\n",
       "    <tr>\n",
       "      <th>1</th>\n",
       "      <td>40.258061</td>\n",
       "      <td>-75.264680</td>\n",
       "      <td>BRIAR PATH &amp; WHITEMARSH LN;  HATFIELD TOWNSHIP...</td>\n",
       "      <td>19446.0</td>\n",
       "      <td>EMS: DIABETIC EMERGENCY</td>\n",
       "      <td>2015-12-10 17:29:21</td>\n",
       "      <td>HATFIELD TOWNSHIP</td>\n",
       "      <td>BRIAR PATH &amp; WHITEMARSH LN</td>\n",
       "      <td>1</td>\n",
       "      <td>EMS</td>\n",
       "      <td>17</td>\n",
       "      <td>12</td>\n",
       "      <td>3</td>\n",
       "    </tr>\n",
       "    <tr>\n",
       "      <th>2</th>\n",
       "      <td>40.121182</td>\n",
       "      <td>-75.351975</td>\n",
       "      <td>HAWS AVE; NORRISTOWN; 2015-12-10 @ 14:39:21-St...</td>\n",
       "      <td>19401.0</td>\n",
       "      <td>Fire: GAS-ODOR/LEAK</td>\n",
       "      <td>2015-12-10 14:39:21</td>\n",
       "      <td>NORRISTOWN</td>\n",
       "      <td>HAWS AVE</td>\n",
       "      <td>1</td>\n",
       "      <td>Fire</td>\n",
       "      <td>14</td>\n",
       "      <td>12</td>\n",
       "      <td>3</td>\n",
       "    </tr>\n",
       "    <tr>\n",
       "      <th>3</th>\n",
       "      <td>40.116153</td>\n",
       "      <td>-75.343513</td>\n",
       "      <td>AIRY ST &amp; SWEDE ST;  NORRISTOWN; Station 308A;...</td>\n",
       "      <td>19401.0</td>\n",
       "      <td>EMS: CARDIAC EMERGENCY</td>\n",
       "      <td>2015-12-10 16:47:36</td>\n",
       "      <td>NORRISTOWN</td>\n",
       "      <td>AIRY ST &amp; SWEDE ST</td>\n",
       "      <td>1</td>\n",
       "      <td>EMS</td>\n",
       "      <td>16</td>\n",
       "      <td>12</td>\n",
       "      <td>3</td>\n",
       "    </tr>\n",
       "    <tr>\n",
       "      <th>4</th>\n",
       "      <td>40.251492</td>\n",
       "      <td>-75.603350</td>\n",
       "      <td>CHERRYWOOD CT &amp; DEAD END;  LOWER POTTSGROVE; S...</td>\n",
       "      <td>NaN</td>\n",
       "      <td>EMS: DIZZINESS</td>\n",
       "      <td>2015-12-10 16:56:52</td>\n",
       "      <td>LOWER POTTSGROVE</td>\n",
       "      <td>CHERRYWOOD CT &amp; DEAD END</td>\n",
       "      <td>1</td>\n",
       "      <td>EMS</td>\n",
       "      <td>16</td>\n",
       "      <td>12</td>\n",
       "      <td>3</td>\n",
       "    </tr>\n",
       "  </tbody>\n",
       "</table>\n",
       "</div>"
      ],
      "text/plain": [
       "         lat        lng                                               desc  \\\n",
       "0  40.297876 -75.581294  REINDEER CT & DEAD END;  NEW HANOVER; Station ...   \n",
       "1  40.258061 -75.264680  BRIAR PATH & WHITEMARSH LN;  HATFIELD TOWNSHIP...   \n",
       "2  40.121182 -75.351975  HAWS AVE; NORRISTOWN; 2015-12-10 @ 14:39:21-St...   \n",
       "3  40.116153 -75.343513  AIRY ST & SWEDE ST;  NORRISTOWN; Station 308A;...   \n",
       "4  40.251492 -75.603350  CHERRYWOOD CT & DEAD END;  LOWER POTTSGROVE; S...   \n",
       "\n",
       "       zip                    title           timeStamp                twp  \\\n",
       "0  19525.0   EMS: BACK PAINS/INJURY 2015-12-10 17:10:52        NEW HANOVER   \n",
       "1  19446.0  EMS: DIABETIC EMERGENCY 2015-12-10 17:29:21  HATFIELD TOWNSHIP   \n",
       "2  19401.0      Fire: GAS-ODOR/LEAK 2015-12-10 14:39:21         NORRISTOWN   \n",
       "3  19401.0   EMS: CARDIAC EMERGENCY 2015-12-10 16:47:36         NORRISTOWN   \n",
       "4      NaN           EMS: DIZZINESS 2015-12-10 16:56:52   LOWER POTTSGROVE   \n",
       "\n",
       "                         addr  e reason  hour  month  day of week  \n",
       "0      REINDEER CT & DEAD END  1    EMS    17     12            3  \n",
       "1  BRIAR PATH & WHITEMARSH LN  1    EMS    17     12            3  \n",
       "2                    HAWS AVE  1   Fire    14     12            3  \n",
       "3          AIRY ST & SWEDE ST  1    EMS    16     12            3  \n",
       "4    CHERRYWOOD CT & DEAD END  1    EMS    16     12            3  "
      ]
     },
     "execution_count": 27,
     "metadata": {},
     "output_type": "execute_result"
    }
   ],
   "source": [
    "df.head()"
   ]
  },
  {
   "cell_type": "code",
   "execution_count": 28,
   "id": "9aa7d1c3",
   "metadata": {
    "execution": {
     "iopub.execute_input": "2024-02-17T05:19:48.203701Z",
     "iopub.status.busy": "2024-02-17T05:19:48.203302Z",
     "iopub.status.idle": "2024-02-17T05:19:48.208199Z",
     "shell.execute_reply": "2024-02-17T05:19:48.207084Z"
    },
    "papermill": {
     "duration": 0.026067,
     "end_time": "2024-02-17T05:19:48.210397",
     "exception": false,
     "start_time": "2024-02-17T05:19:48.184330",
     "status": "completed"
    },
    "tags": []
   },
   "outputs": [],
   "source": [
    "dmap={0:'Mon',1:'Tue',2:'Wed',3:'Thu',4:'Fri',5:'Sat',6:'Sun'}"
   ]
  },
  {
   "cell_type": "code",
   "execution_count": 29,
   "id": "a0908d07",
   "metadata": {
    "execution": {
     "iopub.execute_input": "2024-02-17T05:19:48.247367Z",
     "iopub.status.busy": "2024-02-17T05:19:48.246965Z",
     "iopub.status.idle": "2024-02-17T05:19:48.272374Z",
     "shell.execute_reply": "2024-02-17T05:19:48.271088Z"
    },
    "papermill": {
     "duration": 0.047127,
     "end_time": "2024-02-17T05:19:48.275099",
     "exception": false,
     "start_time": "2024-02-17T05:19:48.227972",
     "status": "completed"
    },
    "tags": []
   },
   "outputs": [],
   "source": [
    "df['day of week']=df['day of week'].map(dmap)"
   ]
  },
  {
   "cell_type": "code",
   "execution_count": 30,
   "id": "8ed5dfd9",
   "metadata": {
    "execution": {
     "iopub.execute_input": "2024-02-17T05:19:48.312233Z",
     "iopub.status.busy": "2024-02-17T05:19:48.311811Z",
     "iopub.status.idle": "2024-02-17T05:19:48.330203Z",
     "shell.execute_reply": "2024-02-17T05:19:48.329073Z"
    },
    "papermill": {
     "duration": 0.039915,
     "end_time": "2024-02-17T05:19:48.332789",
     "exception": false,
     "start_time": "2024-02-17T05:19:48.292874",
     "status": "completed"
    },
    "tags": []
   },
   "outputs": [
    {
     "data": {
      "text/html": [
       "<div>\n",
       "<style scoped>\n",
       "    .dataframe tbody tr th:only-of-type {\n",
       "        vertical-align: middle;\n",
       "    }\n",
       "\n",
       "    .dataframe tbody tr th {\n",
       "        vertical-align: top;\n",
       "    }\n",
       "\n",
       "    .dataframe thead th {\n",
       "        text-align: right;\n",
       "    }\n",
       "</style>\n",
       "<table border=\"1\" class=\"dataframe\">\n",
       "  <thead>\n",
       "    <tr style=\"text-align: right;\">\n",
       "      <th></th>\n",
       "      <th>lat</th>\n",
       "      <th>lng</th>\n",
       "      <th>desc</th>\n",
       "      <th>zip</th>\n",
       "      <th>title</th>\n",
       "      <th>timeStamp</th>\n",
       "      <th>twp</th>\n",
       "      <th>addr</th>\n",
       "      <th>e</th>\n",
       "      <th>reason</th>\n",
       "      <th>hour</th>\n",
       "      <th>month</th>\n",
       "      <th>day of week</th>\n",
       "    </tr>\n",
       "  </thead>\n",
       "  <tbody>\n",
       "    <tr>\n",
       "      <th>0</th>\n",
       "      <td>40.297876</td>\n",
       "      <td>-75.581294</td>\n",
       "      <td>REINDEER CT &amp; DEAD END;  NEW HANOVER; Station ...</td>\n",
       "      <td>19525.0</td>\n",
       "      <td>EMS: BACK PAINS/INJURY</td>\n",
       "      <td>2015-12-10 17:10:52</td>\n",
       "      <td>NEW HANOVER</td>\n",
       "      <td>REINDEER CT &amp; DEAD END</td>\n",
       "      <td>1</td>\n",
       "      <td>EMS</td>\n",
       "      <td>17</td>\n",
       "      <td>12</td>\n",
       "      <td>Thu</td>\n",
       "    </tr>\n",
       "    <tr>\n",
       "      <th>1</th>\n",
       "      <td>40.258061</td>\n",
       "      <td>-75.264680</td>\n",
       "      <td>BRIAR PATH &amp; WHITEMARSH LN;  HATFIELD TOWNSHIP...</td>\n",
       "      <td>19446.0</td>\n",
       "      <td>EMS: DIABETIC EMERGENCY</td>\n",
       "      <td>2015-12-10 17:29:21</td>\n",
       "      <td>HATFIELD TOWNSHIP</td>\n",
       "      <td>BRIAR PATH &amp; WHITEMARSH LN</td>\n",
       "      <td>1</td>\n",
       "      <td>EMS</td>\n",
       "      <td>17</td>\n",
       "      <td>12</td>\n",
       "      <td>Thu</td>\n",
       "    </tr>\n",
       "    <tr>\n",
       "      <th>2</th>\n",
       "      <td>40.121182</td>\n",
       "      <td>-75.351975</td>\n",
       "      <td>HAWS AVE; NORRISTOWN; 2015-12-10 @ 14:39:21-St...</td>\n",
       "      <td>19401.0</td>\n",
       "      <td>Fire: GAS-ODOR/LEAK</td>\n",
       "      <td>2015-12-10 14:39:21</td>\n",
       "      <td>NORRISTOWN</td>\n",
       "      <td>HAWS AVE</td>\n",
       "      <td>1</td>\n",
       "      <td>Fire</td>\n",
       "      <td>14</td>\n",
       "      <td>12</td>\n",
       "      <td>Thu</td>\n",
       "    </tr>\n",
       "    <tr>\n",
       "      <th>3</th>\n",
       "      <td>40.116153</td>\n",
       "      <td>-75.343513</td>\n",
       "      <td>AIRY ST &amp; SWEDE ST;  NORRISTOWN; Station 308A;...</td>\n",
       "      <td>19401.0</td>\n",
       "      <td>EMS: CARDIAC EMERGENCY</td>\n",
       "      <td>2015-12-10 16:47:36</td>\n",
       "      <td>NORRISTOWN</td>\n",
       "      <td>AIRY ST &amp; SWEDE ST</td>\n",
       "      <td>1</td>\n",
       "      <td>EMS</td>\n",
       "      <td>16</td>\n",
       "      <td>12</td>\n",
       "      <td>Thu</td>\n",
       "    </tr>\n",
       "    <tr>\n",
       "      <th>4</th>\n",
       "      <td>40.251492</td>\n",
       "      <td>-75.603350</td>\n",
       "      <td>CHERRYWOOD CT &amp; DEAD END;  LOWER POTTSGROVE; S...</td>\n",
       "      <td>NaN</td>\n",
       "      <td>EMS: DIZZINESS</td>\n",
       "      <td>2015-12-10 16:56:52</td>\n",
       "      <td>LOWER POTTSGROVE</td>\n",
       "      <td>CHERRYWOOD CT &amp; DEAD END</td>\n",
       "      <td>1</td>\n",
       "      <td>EMS</td>\n",
       "      <td>16</td>\n",
       "      <td>12</td>\n",
       "      <td>Thu</td>\n",
       "    </tr>\n",
       "  </tbody>\n",
       "</table>\n",
       "</div>"
      ],
      "text/plain": [
       "         lat        lng                                               desc  \\\n",
       "0  40.297876 -75.581294  REINDEER CT & DEAD END;  NEW HANOVER; Station ...   \n",
       "1  40.258061 -75.264680  BRIAR PATH & WHITEMARSH LN;  HATFIELD TOWNSHIP...   \n",
       "2  40.121182 -75.351975  HAWS AVE; NORRISTOWN; 2015-12-10 @ 14:39:21-St...   \n",
       "3  40.116153 -75.343513  AIRY ST & SWEDE ST;  NORRISTOWN; Station 308A;...   \n",
       "4  40.251492 -75.603350  CHERRYWOOD CT & DEAD END;  LOWER POTTSGROVE; S...   \n",
       "\n",
       "       zip                    title           timeStamp                twp  \\\n",
       "0  19525.0   EMS: BACK PAINS/INJURY 2015-12-10 17:10:52        NEW HANOVER   \n",
       "1  19446.0  EMS: DIABETIC EMERGENCY 2015-12-10 17:29:21  HATFIELD TOWNSHIP   \n",
       "2  19401.0      Fire: GAS-ODOR/LEAK 2015-12-10 14:39:21         NORRISTOWN   \n",
       "3  19401.0   EMS: CARDIAC EMERGENCY 2015-12-10 16:47:36         NORRISTOWN   \n",
       "4      NaN           EMS: DIZZINESS 2015-12-10 16:56:52   LOWER POTTSGROVE   \n",
       "\n",
       "                         addr  e reason  hour  month day of week  \n",
       "0      REINDEER CT & DEAD END  1    EMS    17     12         Thu  \n",
       "1  BRIAR PATH & WHITEMARSH LN  1    EMS    17     12         Thu  \n",
       "2                    HAWS AVE  1   Fire    14     12         Thu  \n",
       "3          AIRY ST & SWEDE ST  1    EMS    16     12         Thu  \n",
       "4    CHERRYWOOD CT & DEAD END  1    EMS    16     12         Thu  "
      ]
     },
     "execution_count": 30,
     "metadata": {},
     "output_type": "execute_result"
    }
   ],
   "source": [
    "df.head()"
   ]
  },
  {
   "cell_type": "code",
   "execution_count": 31,
   "id": "15ad424e",
   "metadata": {
    "execution": {
     "iopub.execute_input": "2024-02-17T05:19:48.371093Z",
     "iopub.status.busy": "2024-02-17T05:19:48.370732Z",
     "iopub.status.idle": "2024-02-17T05:19:50.235869Z",
     "shell.execute_reply": "2024-02-17T05:19:50.234738Z"
    },
    "papermill": {
     "duration": 1.887181,
     "end_time": "2024-02-17T05:19:50.238239",
     "exception": false,
     "start_time": "2024-02-17T05:19:48.351058",
     "status": "completed"
    },
    "tags": []
   },
   "outputs": [
    {
     "data": {
      "text/plain": [
       "<matplotlib.legend.Legend at 0x79011aeb46a0>"
      ]
     },
     "execution_count": 31,
     "metadata": {},
     "output_type": "execute_result"
    },
    {
     "data": {
      "image/png": "[encoded data removed]",
      "text/plain": [
       "<Figure size 640x480 with 1 Axes>"
      ]
     },
     "metadata": {},
     "output_type": "display_data"
    }
   ],
   "source": [
    "sns.countplot(x='day of week',data=df,hue='reason')\n",
    "plt.legend(bbox_to_anchor=(1.05,1),loc=2,borderaxespad=1)"
   ]
  },
  {
   "cell_type": "code",
   "execution_count": 32,
   "id": "e61457ad",
   "metadata": {
    "execution": {
     "iopub.execute_input": "2024-02-17T05:19:50.277296Z",
     "iopub.status.busy": "2024-02-17T05:19:50.276890Z",
     "iopub.status.idle": "2024-02-17T05:19:51.419701Z",
     "shell.execute_reply": "2024-02-17T05:19:51.418560Z"
    },
    "papermill": {
     "duration": 1.165543,
     "end_time": "2024-02-17T05:19:51.422616",
     "exception": false,
     "start_time": "2024-02-17T05:19:50.257073",
     "status": "completed"
    },
    "tags": []
   },
   "outputs": [
    {
     "data": {
      "text/plain": [
       "<matplotlib.legend.Legend at 0x79011aeb7ca0>"
      ]
     },
     "execution_count": 32,
     "metadata": {},
     "output_type": "execute_result"
    },
    {
     "data": {
      "image/png": "[encoded data removed]",
      "text/plain": [
       "<Figure size 640x480 with 1 Axes>"
      ]
     },
     "metadata": {},
     "output_type": "display_data"
    }
   ],
   "source": [
    "sns.countplot(x='month',data=df,hue='reason')\n",
    "plt.legend(bbox_to_anchor=(1.05,1),loc=2,borderaxespad=1)"
   ]
  },
  {
   "cell_type": "code",
   "execution_count": 33,
   "id": "8e85b916",
   "metadata": {
    "execution": {
     "iopub.execute_input": "2024-02-17T05:19:51.464297Z",
     "iopub.status.busy": "2024-02-17T05:19:51.463925Z",
     "iopub.status.idle": "2024-02-17T05:19:51.947186Z",
     "shell.execute_reply": "2024-02-17T05:19:51.946019Z"
    },
    "papermill": {
     "duration": 0.507404,
     "end_time": "2024-02-17T05:19:51.950017",
     "exception": false,
     "start_time": "2024-02-17T05:19:51.442613",
     "status": "completed"
    },
    "tags": []
   },
   "outputs": [],
   "source": [
    "byMonth=df.groupby('month').count()"
   ]
  },
  {
   "cell_type": "code",
   "execution_count": 34,
   "id": "5a4b3092",
   "metadata": {
    "execution": {
     "iopub.execute_input": "2024-02-17T05:19:51.991572Z",
     "iopub.status.busy": "2024-02-17T05:19:51.990762Z",
     "iopub.status.idle": "2024-02-17T05:19:52.008035Z",
     "shell.execute_reply": "2024-02-17T05:19:52.007085Z"
    },
    "papermill": {
     "duration": 0.040577,
     "end_time": "2024-02-17T05:19:52.010251",
     "exception": false,
     "start_time": "2024-02-17T05:19:51.969674",
     "status": "completed"
    },
    "tags": []
   },
   "outputs": [
    {
     "data": {
      "text/html": [
       "<div>\n",
       "<style scoped>\n",
       "    .dataframe tbody tr th:only-of-type {\n",
       "        vertical-align: middle;\n",
       "    }\n",
       "\n",
       "    .dataframe tbody tr th {\n",
       "        vertical-align: top;\n",
       "    }\n",
       "\n",
       "    .dataframe thead th {\n",
       "        text-align: right;\n",
       "    }\n",
       "</style>\n",
       "<table border=\"1\" class=\"dataframe\">\n",
       "  <thead>\n",
       "    <tr style=\"text-align: right;\">\n",
       "      <th></th>\n",
       "      <th>lat</th>\n",
       "      <th>lng</th>\n",
       "      <th>desc</th>\n",
       "      <th>zip</th>\n",
       "      <th>title</th>\n",
       "      <th>timeStamp</th>\n",
       "      <th>twp</th>\n",
       "      <th>addr</th>\n",
       "      <th>e</th>\n",
       "      <th>reason</th>\n",
       "      <th>hour</th>\n",
       "      <th>day of week</th>\n",
       "    </tr>\n",
       "    <tr>\n",
       "      <th>month</th>\n",
       "      <th></th>\n",
       "      <th></th>\n",
       "      <th></th>\n",
       "      <th></th>\n",
       "      <th></th>\n",
       "      <th></th>\n",
       "      <th></th>\n",
       "      <th></th>\n",
       "      <th></th>\n",
       "      <th></th>\n",
       "      <th></th>\n",
       "      <th></th>\n",
       "    </tr>\n",
       "  </thead>\n",
       "  <tbody>\n",
       "    <tr>\n",
       "      <th>1</th>\n",
       "      <td>62336</td>\n",
       "      <td>62336</td>\n",
       "      <td>62336</td>\n",
       "      <td>55294</td>\n",
       "      <td>62336</td>\n",
       "      <td>62336</td>\n",
       "      <td>62312</td>\n",
       "      <td>62336</td>\n",
       "      <td>62336</td>\n",
       "      <td>62336</td>\n",
       "      <td>62336</td>\n",
       "      <td>62336</td>\n",
       "    </tr>\n",
       "    <tr>\n",
       "      <th>2</th>\n",
       "      <td>55427</td>\n",
       "      <td>55427</td>\n",
       "      <td>55427</td>\n",
       "      <td>48922</td>\n",
       "      <td>55427</td>\n",
       "      <td>55427</td>\n",
       "      <td>55405</td>\n",
       "      <td>55427</td>\n",
       "      <td>55427</td>\n",
       "      <td>55427</td>\n",
       "      <td>55427</td>\n",
       "      <td>55427</td>\n",
       "    </tr>\n",
       "    <tr>\n",
       "      <th>3</th>\n",
       "      <td>60027</td>\n",
       "      <td>60027</td>\n",
       "      <td>60027</td>\n",
       "      <td>53252</td>\n",
       "      <td>60027</td>\n",
       "      <td>60027</td>\n",
       "      <td>60001</td>\n",
       "      <td>60027</td>\n",
       "      <td>60027</td>\n",
       "      <td>60027</td>\n",
       "      <td>60027</td>\n",
       "      <td>60027</td>\n",
       "    </tr>\n",
       "    <tr>\n",
       "      <th>4</th>\n",
       "      <td>53671</td>\n",
       "      <td>53671</td>\n",
       "      <td>53671</td>\n",
       "      <td>47349</td>\n",
       "      <td>53671</td>\n",
       "      <td>53671</td>\n",
       "      <td>53655</td>\n",
       "      <td>53671</td>\n",
       "      <td>53671</td>\n",
       "      <td>53671</td>\n",
       "      <td>53671</td>\n",
       "      <td>53671</td>\n",
       "    </tr>\n",
       "    <tr>\n",
       "      <th>5</th>\n",
       "      <td>57509</td>\n",
       "      <td>57509</td>\n",
       "      <td>57509</td>\n",
       "      <td>50354</td>\n",
       "      <td>57509</td>\n",
       "      <td>57509</td>\n",
       "      <td>57474</td>\n",
       "      <td>57509</td>\n",
       "      <td>57509</td>\n",
       "      <td>57509</td>\n",
       "      <td>57509</td>\n",
       "      <td>57509</td>\n",
       "    </tr>\n",
       "  </tbody>\n",
       "</table>\n",
       "</div>"
      ],
      "text/plain": [
       "         lat    lng   desc    zip  title  timeStamp    twp   addr      e  \\\n",
       "month                                                                      \n",
       "1      62336  62336  62336  55294  62336      62336  62312  62336  62336   \n",
       "2      55427  55427  55427  48922  55427      55427  55405  55427  55427   \n",
       "3      60027  60027  60027  53252  60027      60027  60001  60027  60027   \n",
       "4      53671  53671  53671  47349  53671      53671  53655  53671  53671   \n",
       "5      57509  57509  57509  50354  57509      57509  57474  57509  57509   \n",
       "\n",
       "       reason   hour  day of week  \n",
       "month                              \n",
       "1       62336  62336        62336  \n",
       "2       55427  55427        55427  \n",
       "3       60027  60027        60027  \n",
       "4       53671  53671        53671  \n",
       "5       57509  57509        57509  "
      ]
     },
     "execution_count": 34,
     "metadata": {},
     "output_type": "execute_result"
    }
   ],
   "source": [
    "byMonth.head()"
   ]
  },
  {
   "cell_type": "code",
   "execution_count": 35,
   "id": "d7174b67",
   "metadata": {
    "execution": {
     "iopub.execute_input": "2024-02-17T05:19:52.053803Z",
     "iopub.status.busy": "2024-02-17T05:19:52.053373Z",
     "iopub.status.idle": "2024-02-17T05:19:52.542017Z",
     "shell.execute_reply": "2024-02-17T05:19:52.540655Z"
    },
    "papermill": {
     "duration": 0.513737,
     "end_time": "2024-02-17T05:19:52.544857",
     "exception": false,
     "start_time": "2024-02-17T05:19:52.031120",
     "status": "completed"
    },
    "tags": []
   },
   "outputs": [
    {
     "data": {
      "text/plain": [
       "<seaborn.axisgrid.FacetGrid at 0x790117138070>"
      ]
     },
     "execution_count": 35,
     "metadata": {},
     "output_type": "execute_result"
    },
    {
     "data": {
      "image/png": "[encoded data removed]",
      "text/plain": [
       "<Figure size 500x500 with 1 Axes>"
      ]
     },
     "metadata": {},
     "output_type": "display_data"
    }
   ],
   "source": [
    "sns.lmplot(x='month',y='twp',data=byMonth.reset_index())"
   ]
  },
  {
   "cell_type": "code",
   "execution_count": 36,
   "id": "c729c436",
   "metadata": {
    "execution": {
     "iopub.execute_input": "2024-02-17T05:19:52.588551Z",
     "iopub.status.busy": "2024-02-17T05:19:52.588153Z",
     "iopub.status.idle": "2024-02-17T05:19:52.593821Z",
     "shell.execute_reply": "2024-02-17T05:19:52.592469Z"
    },
    "papermill": {
     "duration": 0.030132,
     "end_time": "2024-02-17T05:19:52.596297",
     "exception": false,
     "start_time": "2024-02-17T05:19:52.566165",
     "status": "completed"
    },
    "tags": []
   },
   "outputs": [],
   "source": [
    "t=df['timeStamp'].iloc[0]"
   ]
  },
  {
   "cell_type": "code",
   "execution_count": 37,
   "id": "a55dc640",
   "metadata": {
    "execution": {
     "iopub.execute_input": "2024-02-17T05:19:52.640179Z",
     "iopub.status.busy": "2024-02-17T05:19:52.639508Z",
     "iopub.status.idle": "2024-02-17T05:19:52.646080Z",
     "shell.execute_reply": "2024-02-17T05:19:52.644976Z"
    },
    "papermill": {
     "duration": 0.032121,
     "end_time": "2024-02-17T05:19:52.648551",
     "exception": false,
     "start_time": "2024-02-17T05:19:52.616430",
     "status": "completed"
    },
    "tags": []
   },
   "outputs": [
    {
     "data": {
      "text/plain": [
       "Timestamp('2015-12-10 17:10:52')"
      ]
     },
     "execution_count": 37,
     "metadata": {},
     "output_type": "execute_result"
    }
   ],
   "source": [
    "t"
   ]
  },
  {
   "cell_type": "code",
   "execution_count": 38,
   "id": "3c807bc4",
   "metadata": {
    "execution": {
     "iopub.execute_input": "2024-02-17T05:19:52.691565Z",
     "iopub.status.busy": "2024-02-17T05:19:52.691165Z",
     "iopub.status.idle": "2024-02-17T05:19:54.940772Z",
     "shell.execute_reply": "2024-02-17T05:19:54.939516Z"
    },
    "papermill": {
     "duration": 2.274731,
     "end_time": "2024-02-17T05:19:54.943805",
     "exception": false,
     "start_time": "2024-02-17T05:19:52.669074",
     "status": "completed"
    },
    "tags": []
   },
   "outputs": [],
   "source": [
    "df['date']=df['timeStamp'].apply(lambda t: t.date())"
   ]
  },
  {
   "cell_type": "code",
   "execution_count": 39,
   "id": "699bbdce",
   "metadata": {
    "execution": {
     "iopub.execute_input": "2024-02-17T05:19:54.987927Z",
     "iopub.status.busy": "2024-02-17T05:19:54.987540Z",
     "iopub.status.idle": "2024-02-17T05:19:55.009643Z",
     "shell.execute_reply": "2024-02-17T05:19:55.008462Z"
    },
    "papermill": {
     "duration": 0.047318,
     "end_time": "2024-02-17T05:19:55.012124",
     "exception": false,
     "start_time": "2024-02-17T05:19:54.964806",
     "status": "completed"
    },
    "tags": []
   },
   "outputs": [
    {
     "data": {
      "text/html": [
       "<div>\n",
       "<style scoped>\n",
       "    .dataframe tbody tr th:only-of-type {\n",
       "        vertical-align: middle;\n",
       "    }\n",
       "\n",
       "    .dataframe tbody tr th {\n",
       "        vertical-align: top;\n",
       "    }\n",
       "\n",
       "    .dataframe thead th {\n",
       "        text-align: right;\n",
       "    }\n",
       "</style>\n",
       "<table border=\"1\" class=\"dataframe\">\n",
       "  <thead>\n",
       "    <tr style=\"text-align: right;\">\n",
       "      <th></th>\n",
       "      <th>lat</th>\n",
       "      <th>lng</th>\n",
       "      <th>desc</th>\n",
       "      <th>zip</th>\n",
       "      <th>title</th>\n",
       "      <th>timeStamp</th>\n",
       "      <th>twp</th>\n",
       "      <th>addr</th>\n",
       "      <th>e</th>\n",
       "      <th>reason</th>\n",
       "      <th>hour</th>\n",
       "      <th>month</th>\n",
       "      <th>day of week</th>\n",
       "      <th>date</th>\n",
       "    </tr>\n",
       "  </thead>\n",
       "  <tbody>\n",
       "    <tr>\n",
       "      <th>0</th>\n",
       "      <td>40.297876</td>\n",
       "      <td>-75.581294</td>\n",
       "      <td>REINDEER CT &amp; DEAD END;  NEW HANOVER; Station ...</td>\n",
       "      <td>19525.0</td>\n",
       "      <td>EMS: BACK PAINS/INJURY</td>\n",
       "      <td>2015-12-10 17:10:52</td>\n",
       "      <td>NEW HANOVER</td>\n",
       "      <td>REINDEER CT &amp; DEAD END</td>\n",
       "      <td>1</td>\n",
       "      <td>EMS</td>\n",
       "      <td>17</td>\n",
       "      <td>12</td>\n",
       "      <td>Thu</td>\n",
       "      <td>2015-12-10</td>\n",
       "    </tr>\n",
       "    <tr>\n",
       "      <th>1</th>\n",
       "      <td>40.258061</td>\n",
       "      <td>-75.264680</td>\n",
       "      <td>BRIAR PATH &amp; WHITEMARSH LN;  HATFIELD TOWNSHIP...</td>\n",
       "      <td>19446.0</td>\n",
       "      <td>EMS: DIABETIC EMERGENCY</td>\n",
       "      <td>2015-12-10 17:29:21</td>\n",
       "      <td>HATFIELD TOWNSHIP</td>\n",
       "      <td>BRIAR PATH &amp; WHITEMARSH LN</td>\n",
       "      <td>1</td>\n",
       "      <td>EMS</td>\n",
       "      <td>17</td>\n",
       "      <td>12</td>\n",
       "      <td>Thu</td>\n",
       "      <td>2015-12-10</td>\n",
       "    </tr>\n",
       "    <tr>\n",
       "      <th>2</th>\n",
       "      <td>40.121182</td>\n",
       "      <td>-75.351975</td>\n",
       "      <td>HAWS AVE; NORRISTOWN; 2015-12-10 @ 14:39:21-St...</td>\n",
       "      <td>19401.0</td>\n",
       "      <td>Fire: GAS-ODOR/LEAK</td>\n",
       "      <td>2015-12-10 14:39:21</td>\n",
       "      <td>NORRISTOWN</td>\n",
       "      <td>HAWS AVE</td>\n",
       "      <td>1</td>\n",
       "      <td>Fire</td>\n",
       "      <td>14</td>\n",
       "      <td>12</td>\n",
       "      <td>Thu</td>\n",
       "      <td>2015-12-10</td>\n",
       "    </tr>\n",
       "    <tr>\n",
       "      <th>3</th>\n",
       "      <td>40.116153</td>\n",
       "      <td>-75.343513</td>\n",
       "      <td>AIRY ST &amp; SWEDE ST;  NORRISTOWN; Station 308A;...</td>\n",
       "      <td>19401.0</td>\n",
       "      <td>EMS: CARDIAC EMERGENCY</td>\n",
       "      <td>2015-12-10 16:47:36</td>\n",
       "      <td>NORRISTOWN</td>\n",
       "      <td>AIRY ST &amp; SWEDE ST</td>\n",
       "      <td>1</td>\n",
       "      <td>EMS</td>\n",
       "      <td>16</td>\n",
       "      <td>12</td>\n",
       "      <td>Thu</td>\n",
       "      <td>2015-12-10</td>\n",
       "    </tr>\n",
       "    <tr>\n",
       "      <th>4</th>\n",
       "      <td>40.251492</td>\n",
       "      <td>-75.603350</td>\n",
       "      <td>CHERRYWOOD CT &amp; DEAD END;  LOWER POTTSGROVE; S...</td>\n",
       "      <td>NaN</td>\n",
       "      <td>EMS: DIZZINESS</td>\n",
       "      <td>2015-12-10 16:56:52</td>\n",
       "      <td>LOWER POTTSGROVE</td>\n",
       "      <td>CHERRYWOOD CT &amp; DEAD END</td>\n",
       "      <td>1</td>\n",
       "      <td>EMS</td>\n",
       "      <td>16</td>\n",
       "      <td>12</td>\n",
       "      <td>Thu</td>\n",
       "      <td>2015-12-10</td>\n",
       "    </tr>\n",
       "  </tbody>\n",
       "</table>\n",
       "</div>"
      ],
      "text/plain": [
       "         lat        lng                                               desc  \\\n",
       "0  40.297876 -75.581294  REINDEER CT & DEAD END;  NEW HANOVER; Station ...   \n",
       "1  40.258061 -75.264680  BRIAR PATH & WHITEMARSH LN;  HATFIELD TOWNSHIP...   \n",
       "2  40.121182 -75.351975  HAWS AVE; NORRISTOWN; 2015-12-10 @ 14:39:21-St...   \n",
       "3  40.116153 -75.343513  AIRY ST & SWEDE ST;  NORRISTOWN; Station 308A;...   \n",
       "4  40.251492 -75.603350  CHERRYWOOD CT & DEAD END;  LOWER POTTSGROVE; S...   \n",
       "\n",
       "       zip                    title           timeStamp                twp  \\\n",
       "0  19525.0   EMS: BACK PAINS/INJURY 2015-12-10 17:10:52        NEW HANOVER   \n",
       "1  19446.0  EMS: DIABETIC EMERGENCY 2015-12-10 17:29:21  HATFIELD TOWNSHIP   \n",
       "2  19401.0      Fire: GAS-ODOR/LEAK 2015-12-10 14:39:21         NORRISTOWN   \n",
       "3  19401.0   EMS: CARDIAC EMERGENCY 2015-12-10 16:47:36         NORRISTOWN   \n",
       "4      NaN           EMS: DIZZINESS 2015-12-10 16:56:52   LOWER POTTSGROVE   \n",
       "\n",
       "                         addr  e reason  hour  month day of week        date  \n",
       "0      REINDEER CT & DEAD END  1    EMS    17     12         Thu  2015-12-10  \n",
       "1  BRIAR PATH & WHITEMARSH LN  1    EMS    17     12         Thu  2015-12-10  \n",
       "2                    HAWS AVE  1   Fire    14     12         Thu  2015-12-10  \n",
       "3          AIRY ST & SWEDE ST  1    EMS    16     12         Thu  2015-12-10  \n",
       "4    CHERRYWOOD CT & DEAD END  1    EMS    16     12         Thu  2015-12-10  "
      ]
     },
     "execution_count": 39,
     "metadata": {},
     "output_type": "execute_result"
    }
   ],
   "source": [
    "df.head()"
   ]
  },
  {
   "cell_type": "code",
   "execution_count": 40,
   "id": "2c42313f",
   "metadata": {
    "execution": {
     "iopub.execute_input": "2024-02-17T05:19:55.058324Z",
     "iopub.status.busy": "2024-02-17T05:19:55.057957Z",
     "iopub.status.idle": "2024-02-17T05:19:56.018826Z",
     "shell.execute_reply": "2024-02-17T05:19:56.017495Z"
    },
    "papermill": {
     "duration": 0.98831,
     "end_time": "2024-02-17T05:19:56.022106",
     "exception": false,
     "start_time": "2024-02-17T05:19:55.033796",
     "status": "completed"
    },
    "tags": []
   },
   "outputs": [
    {
     "data": {
      "text/plain": [
       "<Axes: xlabel='date'>"
      ]
     },
     "execution_count": 40,
     "metadata": {},
     "output_type": "execute_result"
    },
    {
     "data": {
      "image/png": "[encoded data removed]",
      "text/plain": [
       "<Figure size 640x480 with 1 Axes>"
      ]
     },
     "metadata": {},
     "output_type": "display_data"
    }
   ],
   "source": [
    "df.groupby('date').count()['lat'].plot()"
   ]
  },
  {
   "cell_type": "code",
   "execution_count": 41,
   "id": "bf89d1e9",
   "metadata": {
    "execution": {
     "iopub.execute_input": "2024-02-17T05:19:56.075125Z",
     "iopub.status.busy": "2024-02-17T05:19:56.074757Z",
     "iopub.status.idle": "2024-02-17T05:19:56.892301Z",
     "shell.execute_reply": "2024-02-17T05:19:56.891012Z"
    },
    "papermill": {
     "duration": 0.847207,
     "end_time": "2024-02-17T05:19:56.894752",
     "exception": false,
     "start_time": "2024-02-17T05:19:56.047545",
     "status": "completed"
    },
    "tags": []
   },
   "outputs": [
    {
     "data": {
      "image/png": "[encoded data removed]",
      "text/plain": [
       "<Figure size 640x480 with 1 Axes>"
      ]
     },
     "metadata": {},
     "output_type": "display_data"
    }
   ],
   "source": [
    "df[df['reason']=='Traffic'].groupby('date').count()['lat'].plot()\n",
    "plt.title('Traffic')\n",
    "plt.tight_layout()"
   ]
  },
  {
   "cell_type": "code",
   "execution_count": 42,
   "id": "77baa5d0",
   "metadata": {
    "execution": {
     "iopub.execute_input": "2024-02-17T05:19:56.943322Z",
     "iopub.status.busy": "2024-02-17T05:19:56.942680Z",
     "iopub.status.idle": "2024-02-17T05:19:57.610307Z",
     "shell.execute_reply": "2024-02-17T05:19:57.609194Z"
    },
    "papermill": {
     "duration": 0.695189,
     "end_time": "2024-02-17T05:19:57.612727",
     "exception": false,
     "start_time": "2024-02-17T05:19:56.917538",
     "status": "completed"
    },
    "tags": []
   },
   "outputs": [
    {
     "data": {
      "image/png": "[encoded data removed]",
      "text/plain": [
       "<Figure size 640x480 with 1 Axes>"
      ]
     },
     "metadata": {},
     "output_type": "display_data"
    }
   ],
   "source": [
    "df[df['reason']=='Fire'].groupby('date').count()['lat'].plot()\n",
    "plt.title('Fire')\n",
    "plt.tight_layout()"
   ]
  },
  {
   "cell_type": "code",
   "execution_count": 43,
   "id": "46fb6cff",
   "metadata": {
    "execution": {
     "iopub.execute_input": "2024-02-17T05:19:57.662276Z",
     "iopub.status.busy": "2024-02-17T05:19:57.661660Z",
     "iopub.status.idle": "2024-02-17T05:19:58.602372Z",
     "shell.execute_reply": "2024-02-17T05:19:58.601210Z"
    },
    "papermill": {
     "duration": 0.968565,
     "end_time": "2024-02-17T05:19:58.604902",
     "exception": false,
     "start_time": "2024-02-17T05:19:57.636337",
     "status": "completed"
    },
    "tags": []
   },
   "outputs": [
    {
     "data": {
      "image/png": "[encoded data removed]",
      "text/plain": [
       "<Figure size 640x480 with 1 Axes>"
      ]
     },
     "metadata": {},
     "output_type": "display_data"
    }
   ],
   "source": [
    "df[df['reason']=='EMS'].groupby('date').count()['lat'].plot()\n",
    "plt.title('EMS')\n",
    "plt.tight_layout()"
   ]
  },
  {
   "cell_type": "code",
   "execution_count": 44,
   "id": "8dbe410b",
   "metadata": {
    "execution": {
     "iopub.execute_input": "2024-02-17T05:19:58.653792Z",
     "iopub.status.busy": "2024-02-17T05:19:58.652958Z",
     "iopub.status.idle": "2024-02-17T05:19:59.203273Z",
     "shell.execute_reply": "2024-02-17T05:19:59.201985Z"
    },
    "papermill": {
     "duration": 0.577911,
     "end_time": "2024-02-17T05:19:59.206130",
     "exception": false,
     "start_time": "2024-02-17T05:19:58.628219",
     "status": "completed"
    },
    "tags": []
   },
   "outputs": [],
   "source": [
    "dayhour=df.groupby(by=['day of week','hour']).count()['reason'].unstack()"
   ]
  },
  {
   "cell_type": "code",
   "execution_count": 45,
   "id": "b132bcd8",
   "metadata": {
    "execution": {
     "iopub.execute_input": "2024-02-17T05:19:59.255724Z",
     "iopub.status.busy": "2024-02-17T05:19:59.255259Z",
     "iopub.status.idle": "2024-02-17T05:19:59.731170Z",
     "shell.execute_reply": "2024-02-17T05:19:59.729801Z"
    },
    "papermill": {
     "duration": 0.50392,
     "end_time": "2024-02-17T05:19:59.733595",
     "exception": false,
     "start_time": "2024-02-17T05:19:59.229675",
     "status": "completed"
    },
    "tags": []
   },
   "outputs": [
    {
     "data": {
      "text/plain": [
       "<Axes: xlabel='hour', ylabel='day of week'>"
      ]
     },
     "execution_count": 45,
     "metadata": {},
     "output_type": "execute_result"
    },
    {
     "data": {
      "image/png": "[encoded data removed]",
      "text/plain": [
       "<Figure size 640x480 with 2 Axes>"
      ]
     },
     "metadata": {},
     "output_type": "display_data"
    }
   ],
   "source": [
    "sns.heatmap(dayhour,cmap='viridis')"
   ]
  },
  {
   "cell_type": "code",
   "execution_count": null,
   "id": "3c16efde",
   "metadata": {
    "papermill": {
     "duration": 0.023578,
     "end_time": "2024-02-17T05:19:59.781177",
     "exception": false,
     "start_time": "2024-02-17T05:19:59.757599",
     "status": "completed"
    },
    "tags": []
   },
   "outputs": [],
   "source": []
  }
 ],
 "metadata": {
  "kaggle": {
   "accelerator": "none",
   "dataSources": [
    {
     "datasetId": 100,
     "sourceId": 1381403,
     "sourceType": "datasetVersion"
    }
   ],
   "dockerImageVersionId": 30646,
   "isGpuEnabled": false,
   "isInternetEnabled": false,
   "language": "python",
   "sourceType": "notebook"
  },
  "kernelspec": {
   "display_name": "Python 3",
   "language": "python",
   "name": "python3"
  },
  "language_info": {
   "codemirror_mode": {
    "name": "ipython",
    "version": 3
   },
   "file_extension": ".py",
   "mimetype": "text/x-python",
   "name": "python",
   "nbconvert_exporter": "python",
   "pygments_lexer": "ipython3",
   "version": "3.10.13"
  },
  "papermill": {
   "default_parameters": {},
   "duration": 32.831961,
   "end_time": "2024-02-17T05:20:00.528306",
   "environment_variables": {},
   "exception": null,
   "input_path": "__notebook__.ipynb",
   "output_path": "__notebook__.ipynb",
   "parameters": {},
   "start_time": "2024-02-17T05:19:27.696345",
   "version": "2.5.0"
  }
 },
 "nbformat": 4,
 "nbformat_minor": 5
}
